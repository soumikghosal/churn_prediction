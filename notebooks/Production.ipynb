{
 "cells": [
  {
   "cell_type": "code",
   "execution_count": 12,
   "id": "beb44588-ce9f-4656-a423-0da555029662",
   "metadata": {},
   "outputs": [],
   "source": [
    "import pandas as pd\n",
    "from pycaret.classification import *\n",
    "import os\n",
    "import numpy as np"
   ]
  },
  {
   "cell_type": "code",
   "execution_count": 13,
   "id": "69f24f1d-a385-4b38-b2e3-2c4e3e97bd07",
   "metadata": {},
   "outputs": [],
   "source": [
    "data_path = \"Churn_prediction\\\\data\\\\raw\"\n",
    "raw_file = \"Telco-Customer-Churn.xlsx\"\n",
    "\n",
    "data_df = pd.read_excel(os.path.join(data_path, raw_file), sheet_name=\"WA_Fn-UseC_-Telco-Customer-Chur\")"
   ]
  },
  {
   "cell_type": "code",
   "execution_count": 14,
   "id": "5f2a12c6-0629-4c42-8867-de2393c4daa8",
   "metadata": {},
   "outputs": [],
   "source": [
    "data_df['TotalCharges'] = pd.to_numeric(data_df['TotalCharges'].apply(lambda x:str(x).strip()))#.astype(float)\n",
    "data_df['tenure'] = pd.to_numeric(data_df['tenure'])\n",
    "data_df['TotalCharges'] = np.where(data_df['TotalCharges'].isna(), data_df['tenure']*data_df['MonthlyCharges'], data_df['TotalCharges'])"
   ]
  },
  {
   "cell_type": "code",
   "execution_count": 15,
   "id": "2d88464f-b498-4754-afab-0d9dd688b3be",
   "metadata": {},
   "outputs": [
    {
     "name": "stdout",
     "output_type": "stream",
     "text": [
      "Transformation Pipeline and Model Successfully Loaded\n"
     ]
    }
   ],
   "source": [
    "model_path = r\"Churn_prediction/models/\"\n",
    "model_name = r\"churn-prediction-pipeline\"\n",
    "\n",
    "saved_best_model = load_model(os.path.join(model_path, model_name))"
   ]
  },
  {
   "cell_type": "code",
   "execution_count": 16,
   "id": "cc1074ae-8461-4dd4-ac31-a48abec47832",
   "metadata": {},
   "outputs": [],
   "source": [
    "new_pred = predict_model(saved_best_model, data_df)"
   ]
  },
  {
   "cell_type": "code",
   "execution_count": 17,
   "id": "6ba56373-462d-482e-8398-fbadcdee40b9",
   "metadata": {},
   "outputs": [
    {
     "name": "stdout",
     "output_type": "stream",
     "text": [
      "^C\n"
     ]
    }
   ],
   "source": [
    "!mlflow ui"
   ]
  },
  {
   "cell_type": "code",
   "execution_count": null,
   "id": "dfa772bd-78e3-415e-ace8-ea4ff1cb6611",
   "metadata": {},
   "outputs": [],
   "source": []
  }
 ],
 "metadata": {
  "kernelspec": {
   "display_name": "Python 3 (ipykernel)",
   "language": "python",
   "name": "python3"
  },
  "language_info": {
   "codemirror_mode": {
    "name": "ipython",
    "version": 3
   },
   "file_extension": ".py",
   "mimetype": "text/x-python",
   "name": "python",
   "nbconvert_exporter": "python",
   "pygments_lexer": "ipython3",
   "version": "3.11.7"
  }
 },
 "nbformat": 4,
 "nbformat_minor": 5
}
